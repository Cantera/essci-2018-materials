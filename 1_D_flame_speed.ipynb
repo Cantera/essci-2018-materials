{
 "cells": [
  {
   "cell_type": "markdown",
   "metadata": {},
   "source": [
    "# Flame Speed with Sensitivity Analysis"
   ]
  },
  {
   "cell_type": "markdown",
   "metadata": {},
   "source": [
    "In this example we simulate a freely-propagating, adiabatic, 1-D flame and\n",
    "* Calculate its laminar burning velocity\n",
    "* Perform a sensitivity analysis of its kinetics\n",
    "\n",
    "The figure below illustrates the setup, in a flame-fixed co-ordinate system. The reactants enter with density $\\rho_{u}$, temperature $T_{u}$ and speed $S_{u}$. The products exit the flame at speed $S_{b}$, density $\\rho_{b}$ and temperature $T_{b}$."
   ]
  },
  {
   "cell_type": "markdown",
   "metadata": {},
   "source": [
    "<img src=\"flame-speed-example/flameSpeed.png\" alt=\"Freely Propagating Flame\" style=\"width: 300px;\"/>"
   ]
  },
  {
   "cell_type": "markdown",
   "metadata": {},
   "source": [
    "### Import Modules"
   ]
  },
  {
   "cell_type": "code",
   "execution_count": null,
   "metadata": {},
   "outputs": [],
   "source": [
    "import cantera as ct\n",
    "import numpy as np\n",
    "\n",
    "print(\"Running Cantera Version: \" + str(ct.__version__))"
   ]
  },
  {
   "cell_type": "markdown",
   "metadata": {},
   "source": [
    "### Define the reactant conditions, gas mixture and kinetic mechanism associated with the gas"
   ]
  },
  {
   "cell_type": "code",
   "execution_count": null,
   "metadata": {},
   "outputs": [],
   "source": [
    "#Inlet Temperature in Kelvin and Inlet Pressure in Pascals\n",
    "#In this case we are setting the inlet T and P to room temperature conditions\n",
    "To = 300\n",
    "Po = 101325\n",
    "\n",
    "#Define the gas-mixutre and kinetics\n",
    "#In this case, we are choosing a GRI3.0 gas\n",
    "gas = ct.Solution('gri30.cti')\n",
    "\n",
    "# Create a stoichiometric CH4/Air premixed mixture \n",
    "gas.set_equivalence_ratio(1.0, 'CH4', {'O2':1.0, 'N2':3.76})\n",
    "gas.TP = To, Po"
   ]
  },
  {
   "cell_type": "markdown",
   "metadata": {},
   "source": [
    "### Define flame simulation conditions"
   ]
  },
  {
   "cell_type": "code",
   "execution_count": null,
   "metadata": {},
   "outputs": [],
   "source": [
    "# Domain width in meters\n",
    "width = 0.014\n",
    "\n",
    "# Create the flame object\n",
    "flame = ct.FreeFlame(gas, width=width)\n",
    "\n",
    "# Define tolerances for the solver\n",
    "flame.set_refine_criteria(ratio=3, slope=0.1, curve=0.1)\n",
    "\n",
    "# Set multi-component transport\n",
    "flame.transport_model = 'Multi'\n",
    "\n",
    "# Define logging level\n",
    "loglevel = 1"
   ]
  },
  {
   "cell_type": "markdown",
   "metadata": {},
   "source": [
    "### Solve"
   ]
  },
  {
   "cell_type": "markdown",
   "metadata": {},
   "source": [
    "The `auto` option in the solve function tries to \"automatically\" solve the flame by applying a few common techniques. First, the flame is solved on a sparse grid with the transport calculations set to mixture averaged. Then grid refinement is enabled, with points added according to the values of the `ratio`, `slope`, and `curve` parameters in the `set_refine_criteria` function. If the initial solve on the sparse grid fails to converge, the simulation is attempted again, but this time with the energy equation disabled. Once the simulation has been solved on the refined grid with the mixture averaged transport, Cantera enables the multicomponent transport and Soret diffusion, if they have been set by the user.\n",
    "\n",
    "In general, it is recommended that you use the `auto` option the first time you run the solver, unless the simulation fails. On subsequent invocations of `solve`, you should not include the `auto` option (or set it to `False`)."
   ]
  },
  {
   "cell_type": "code",
   "execution_count": null,
   "metadata": {},
   "outputs": [],
   "source": [
    "flame.solve(loglevel=loglevel, auto=True)"
   ]
  },
  {
   "cell_type": "code",
   "execution_count": null,
   "metadata": {},
   "outputs": [],
   "source": [
    "Su0 = flame.u[0]\n",
    "print(\"Flame Speed is: {:.2f} cm/s\".format(Su0*100))"
   ]
  },
  {
   "cell_type": "markdown",
   "metadata": {},
   "source": [
    "### Plot figures\n",
    "\n",
    "Check and see if all has gone well. Plot temperature and species fractions to see. We expect that the solution at the boundaries of the domain will have zero gradient (in other words, that the domain width that we specified is wide enough for the flame)."
   ]
  },
  {
   "cell_type": "code",
   "execution_count": null,
   "metadata": {},
   "outputs": [],
   "source": [
    "# Import plotting modules and define plotting preference\n",
    "\n",
    "%matplotlib notebook\n",
    "import matplotlib.pyplot as plt\n",
    "\n",
    "plt.rcParams['axes.labelsize'] = 14\n",
    "plt.rcParams['xtick.labelsize'] = 12\n",
    "plt.rcParams['ytick.labelsize'] = 12\n",
    "plt.rcParams['legend.fontsize'] = 10\n",
    "plt.rcParams['figure.figsize'] = (8,6)\n",
    "\n",
    "# Get the best of both ggplot and seaborn\n",
    "plt.style.use('ggplot')\n",
    "plt.style.use('seaborn-deep')\n",
    "\n",
    "plt.rcParams['figure.autolayout'] = True"
   ]
  },
  {
   "cell_type": "markdown",
   "metadata": {},
   "source": [
    "#### Temperature Plot"
   ]
  },
  {
   "cell_type": "code",
   "execution_count": null,
   "metadata": {},
   "outputs": [],
   "source": [
    "plt.figure()\n",
    "\n",
    "plt.plot(flame.grid*100, flame.T, '-o')\n",
    "plt.xlabel('Distance (cm)')\n",
    "plt.ylabel('Temperature (K)');"
   ]
  },
  {
   "cell_type": "markdown",
   "metadata": {},
   "source": [
    "#### Major species' plot"
   ]
  },
  {
   "cell_type": "code",
   "execution_count": null,
   "metadata": {},
   "outputs": [],
   "source": [
    "CH4_i = flame.gas.species_index('CH4')\n",
    "CO2_i = flame.gas.species_index('CO2')\n",
    "H2O_i = flame.gas.species_index('H2O')\n",
    "\n",
    "# Extract concentration data\n",
    "X_CH4 = flame.X[CH4_i]\n",
    "X_CO2 = flame.X[CO2_i]\n",
    "X_H2O = flame.X[H2O_i]\n",
    "\n",
    "plt.figure()\n",
    "\n",
    "plt.plot(flame.grid*100, X_CH4, '-o', label=r'$CH_{4}$')\n",
    "plt.plot(flame.grid*100, X_CO2, '-s', label=r'$CO_{2}$')\n",
    "plt.plot(flame.grid*100, X_H2O, '-<', label=r'$H_{2}O$')\n",
    "\n",
    "plt.legend(loc=2)\n",
    "plt.xlabel('Distance (cm)')\n",
    "plt.ylabel('MoleFractions');"
   ]
  },
  {
   "cell_type": "code",
   "execution_count": null,
   "metadata": {},
   "outputs": [],
   "source": []
  }
 ],
 "metadata": {
  "kernelspec": {
   "display_name": "Python 3",
   "language": "python",
   "name": "python3"
  },
  "language_info": {
   "codemirror_mode": {
    "name": "ipython",
    "version": 3
   },
   "file_extension": ".py",
   "mimetype": "text/x-python",
   "name": "python",
   "nbconvert_exporter": "python",
   "pygments_lexer": "ipython3",
   "version": "3.6.4"
  }
 },
 "nbformat": 4,
 "nbformat_minor": 1
}
