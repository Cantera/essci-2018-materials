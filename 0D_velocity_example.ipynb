{
 "cells": [
  {
   "cell_type": "markdown",
   "metadata": {},
   "source": [
    "# 0-D Reactors"
   ]
  },
  {
   "cell_type": "markdown",
   "metadata": {},
   "source": [
    "Cantera can solve the coupled energy and species equations for zero-dimensional reactors. For further details of the actual equations that are solved, see the documentation: http://cantera.org/docs/sphinx/html/reactors.html The 0-D reactors have a number of options that enable them to model a wide range of systems, including user-controlled varying volume, heat transfer into or out of the environment, mass flow into and out of the system, and surface kinetics.\n",
    "\n",
    "Effectively, there are two major choices the user must make in desiging the model of the basic system. The first is whether the reactor solves the general energy equation (solved in terms of the mixture enthalpy) or the ideal gas energy equation (solved in terms of the temperature). In general, the two methods will give the same solution to the problem; however, if the system can be modeled as an ideal gas, the ideal gas equation tends to be more robust and faster.\n",
    "\n",
    "The second choice the user must make is whether the system will be modeled as constant pressure or constant volume.\n",
    "\n",
    "For each of these choices, there is a specific reactor type:\n",
    "\n",
    "* `Reactor`: Constant volume, general energy equation\n",
    "* `IdealGasReactor`: Constant volume, ideal gas energy equation\n",
    "* `ConstantPressureReactor`: Constant pressure, general energy equation\n",
    "* `ConstantPressureIdealGasReactor`: Constant pressure, ideal gas energy equation\n",
    "\n",
    "<div class=\"alert alert-block alert-info\">\n",
    "\n",
    "Old examples recommended that constant pressure reactors be approximated by allowing the volume of the reactor to expand very quickly as the reaction proceeded. This is no longer recommended because it creates extra stiffness in the solution and the `ConstantPressure...` reactors are a better solution\n",
    "\n",
    "</div>\n",
    "\n",
    "In the following example, we will solve a constant volume, adiabatic reactor problem, followed by a variable-volume reactor where the volume is controlled by a user-defined function."
   ]
  },
  {
   "cell_type": "code",
   "execution_count": 1,
   "metadata": {},
   "outputs": [],
   "source": [
    "import cantera as ct\n",
    "%matplotlib ipympl\n",
    "import matplotlib.pyplot as plt\n",
    "import numpy as np"
   ]
  },
  {
   "cell_type": "markdown",
   "metadata": {},
   "source": [
    "## RCM Experimental Information"
   ]
  },
  {
   "cell_type": "markdown",
   "metadata": {},
   "source": [
    "The following experimental data comes from the work of Dames et al., *Combustion and Flame*, 168, 310-330, https://doi.org/10.1016/j.combustflame.2016.02.021 The experiment is a 50%-50% by mole mixture of propane and dimethyl ether. The experiment is a rapid compression machine experiment, where a compression process brings the reactant mixture to the end of compression (EOC) conditions. In this particular experiment, the EOC pressure is 30.11 bar and the EOC temperature is 682 K, and the ignition delay is 19.58 ms."
   ]
  },
  {
   "cell_type": "code",
   "execution_count": 2,
   "metadata": {},
   "outputs": [
    {
     "data": {
      "application/vnd.jupyter.widget-view+json": {
       "model_id": "9c3af08dc2224c6d85d91f8d16d01ab7",
       "version_major": 2,
       "version_minor": 0
      },
      "text/html": [
       "<p>Failed to display Jupyter Widget of type <code>FigureCanvasNbAgg</code>.</p>\n",
       "<p>\n",
       "  If you're reading this message in the Jupyter Notebook or JupyterLab Notebook, it may mean\n",
       "  that the widgets JavaScript is still loading. If this message persists, it\n",
       "  likely means that the widgets JavaScript library is either not installed or\n",
       "  not enabled. See the <a href=\"https://ipywidgets.readthedocs.io/en/stable/user_install.html\">Jupyter\n",
       "  Widgets Documentation</a> for setup instructions.\n",
       "</p>\n",
       "<p>\n",
       "  If you're reading this message in another frontend (for example, a static\n",
       "  rendering on GitHub or <a href=\"https://nbviewer.jupyter.org/\">NBViewer</a>),\n",
       "  it may mean that your frontend doesn't currently support widgets.\n",
       "</p>\n"
      ],
      "text/plain": [
       "FigureCanvasNbAgg()"
      ]
     },
     "metadata": {},
     "output_type": "display_data"
    }
   ],
   "source": [
    "data = np.loadtxt('0d_example/Tc_682K_P0_1.5137_T0_323K_pressure.txt')\n",
    "expt_time = data[:, 0]\n",
    "expt_pres = data[:, 1]\n",
    "plt.figure('Experimental Pressure')\n",
    "plt.plot(expt_time, expt_pres)\n",
    "plt.xlabel('Time [s]')\n",
    "plt.ylabel('Pressure [bar]');"
   ]
  },
  {
   "cell_type": "markdown",
   "metadata": {},
   "source": [
    "## Constant Volume Simulation Setup"
   ]
  },
  {
   "cell_type": "code",
   "execution_count": 3,
   "metadata": {},
   "outputs": [
    {
     "data": {
      "text/plain": [
       "{'C3H8': 0.024950099800399205,\n",
       " 'CH3OCH3': 0.024950099800399205,\n",
       " 'N2': 0.7504990019960079,\n",
       " 'O2': 0.1996007984031936}"
      ]
     },
     "execution_count": 3,
     "metadata": {},
     "output_type": "execute_result"
    }
   ],
   "source": [
    "gas = ct.Solution('0d_example/mech.cti')\n",
    "gas.TP = 682, 30.11E5\n",
    "gas.set_equivalence_ratio(1.0, {'ch3och3': 1, 'c3h8': 1}, {'o2': 1, 'n2': 3.76})\n",
    "gas.mole_fraction_dict()"
   ]
  },
  {
   "cell_type": "markdown",
   "metadata": {},
   "source": [
    "The experiment can be modeled as an ideal gas mixture, and the reactor can be modeled as constant volume for simplicity, with no mass transfer to/from the environment. The reactor is an `IdealGasReactor`, and after creating the reactor, we add it to a `ReactorNet`. The reactor network would also contain any flow controllers, if those were present."
   ]
  },
  {
   "cell_type": "code",
   "execution_count": 4,
   "metadata": {},
   "outputs": [],
   "source": [
    "reac = ct.IdealGasReactor(gas)\n",
    "netw = ct.ReactorNet([reac])"
   ]
  },
  {
   "cell_type": "markdown",
   "metadata": {},
   "source": [
    "The next step is to run the integrator. There are two options for this, the `advance` method of the `ReactorNet` and the `step` method. The `advance` method is useful when there is a desired end time for the integration, or you would like to have fixed step sizes in the output. The `step` method takes one variable sized time step, with the size determined by the integrator. It is useful when you want as much detail (in terms of time history) as possible. The easiest way to store the data is to append to `list`s."
   ]
  },
  {
   "cell_type": "code",
   "execution_count": 5,
   "metadata": {},
   "outputs": [],
   "source": [
    "temperature = []\n",
    "pressure = []\n",
    "volume = []\n",
    "time = []\n",
    "\n",
    "# End the simulation when the temperature exceeds 2500 K or the time reaches 0.1 s\n",
    "while reac.T < 2500 and netw.time < 0.1:\n",
    "    time.append(netw.time)\n",
    "    temperature.append(reac.T)\n",
    "    pressure.append(reac.thermo.P)\n",
    "    volume.append(reac.volume)\n",
    "    netw.step()\n",
    "\n",
    "# It is more convenient to work with the data in NumPy arrays than Python lists, so convert\n",
    "temperature = np.array(temperature)\n",
    "pressure = np.array(pressure)\n",
    "volume = np.array(volume)\n",
    "time = np.array(time)"
   ]
  },
  {
   "cell_type": "code",
   "execution_count": 6,
   "metadata": {},
   "outputs": [
    {
     "data": {
      "application/vnd.jupyter.widget-view+json": {
       "model_id": "d55ca7ddd3fb4932818ce2cb0973a73b",
       "version_major": 2,
       "version_minor": 0
      },
      "text/html": [
       "<p>Failed to display Jupyter Widget of type <code>FigureCanvasNbAgg</code>.</p>\n",
       "<p>\n",
       "  If you're reading this message in the Jupyter Notebook or JupyterLab Notebook, it may mean\n",
       "  that the widgets JavaScript is still loading. If this message persists, it\n",
       "  likely means that the widgets JavaScript library is either not installed or\n",
       "  not enabled. See the <a href=\"https://ipywidgets.readthedocs.io/en/stable/user_install.html\">Jupyter\n",
       "  Widgets Documentation</a> for setup instructions.\n",
       "</p>\n",
       "<p>\n",
       "  If you're reading this message in another frontend (for example, a static\n",
       "  rendering on GitHub or <a href=\"https://nbviewer.jupyter.org/\">NBViewer</a>),\n",
       "  it may mean that your frontend doesn't currently support widgets.\n",
       "</p>\n"
      ],
      "text/plain": [
       "FigureCanvasNbAgg()"
      ]
     },
     "metadata": {},
     "output_type": "display_data"
    }
   ],
   "source": [
    "plt.figure('Simulated Temperature')\n",
    "plt.plot(time, temperature)\n",
    "plt.xlabel('Time [s]')\n",
    "plt.ylabel('Temperature [K]');"
   ]
  },
  {
   "cell_type": "code",
   "execution_count": 7,
   "metadata": {},
   "outputs": [
    {
     "data": {
      "application/vnd.jupyter.widget-view+json": {
       "model_id": "475a7a4964cb4b25b0a4ea71e6093a78",
       "version_major": 2,
       "version_minor": 0
      },
      "text/html": [
       "<p>Failed to display Jupyter Widget of type <code>FigureCanvasNbAgg</code>.</p>\n",
       "<p>\n",
       "  If you're reading this message in the Jupyter Notebook or JupyterLab Notebook, it may mean\n",
       "  that the widgets JavaScript is still loading. If this message persists, it\n",
       "  likely means that the widgets JavaScript library is either not installed or\n",
       "  not enabled. See the <a href=\"https://ipywidgets.readthedocs.io/en/stable/user_install.html\">Jupyter\n",
       "  Widgets Documentation</a> for setup instructions.\n",
       "</p>\n",
       "<p>\n",
       "  If you're reading this message in another frontend (for example, a static\n",
       "  rendering on GitHub or <a href=\"https://nbviewer.jupyter.org/\">NBViewer</a>),\n",
       "  it may mean that your frontend doesn't currently support widgets.\n",
       "</p>\n"
      ],
      "text/plain": [
       "FigureCanvasNbAgg()"
      ]
     },
     "metadata": {},
     "output_type": "display_data"
    }
   ],
   "source": [
    "plt.figure('Experimental Pressure vs. Simulated Pressure')\n",
    "plt.plot(expt_time, expt_pres, label='Experimental')\n",
    "plt.plot(time + 0.032, pressure/1.0E5, label='Simulation')\n",
    "plt.legend()\n",
    "plt.xlabel('Time [s]')\n",
    "plt.ylabel('Pressure [bar]');"
   ]
  },
  {
   "cell_type": "markdown",
   "metadata": {},
   "source": [
    "## Variable-Volume Simulation Setup"
   ]
  },
  {
   "cell_type": "markdown",
   "metadata": {},
   "source": [
    "The agreement between the experiment and the model is quite good, although it is clear there is some experimental detail that is missing. We can account for this detail (the compression stroke and post-compression heat-loss) by changing the volume of the `IdealGasReactor` to model the processes in the experiment. The volume of the reactor can be changed by considering it as a piston-cylinder assembly. The area of the piston is constant, and the rate of change of the volume is the velocity of the piston. It is this velocity that must be specified to the reactor to change its volume. First, we will define a class with the special `__call__` that returns the velocity at a point in time. The time is passed as the argument to the `__call__` function."
   ]
  },
  {
   "cell_type": "code",
   "execution_count": 8,
   "metadata": {},
   "outputs": [],
   "source": [
    "class VolumeProfile(object):\n",
    "    \"\"\"\n",
    "    Set the velocity of the piston by using a user specified volume\n",
    "    profile. The initialization and calling of this class are handled\n",
    "    by the `cantera.Func1` interface of Cantera.\n",
    "    The velocity is calculated by assuming a unit area and using the\n",
    "    forward difference, calculated by `numpy.diff`. This function is\n",
    "    only called once when the class is initialized at the beginning of\n",
    "    a problem so it is efficient.\n",
    "    Parameters\n",
    "    ----------\n",
    "    time: `numpy.ndarray`\n",
    "        Array or list of time values\n",
    "    volume: `numpy.ndarray`\n",
    "        Array or list of volume values\n",
    "    Attributes\n",
    "    ----------\n",
    "    time: `numpy.ndarray`\n",
    "        Array of time values\n",
    "    volume: `numpy.ndarray`\n",
    "        Array of volume values\n",
    "    velocity: `numpy.ndarray`\n",
    "        Array of velocity values\n",
    "    \"\"\"\n",
    "\n",
    "    def __init__(self, time, volume):\n",
    "        # The time and volume are stored as lists in the keywords\n",
    "        # dictionary. The volume is normalized by the first volume\n",
    "        # element so that a unit area can be used to calculate the\n",
    "        # velocity.\n",
    "        self.time = np.array(time)\n",
    "        self.volume = np.array(volume)/volume[0]\n",
    "\n",
    "        # The velocity is calculated by the forward difference.\n",
    "        # numpy.diff returns an array one element smaller than the\n",
    "        # input array, so we append a zero to match the length of the\n",
    "        # self.time array.\n",
    "        self.velocity = np.diff(self.volume)/np.diff(self.time)\n",
    "        self.velocity = np.append(self.velocity, 0)\n",
    "\n",
    "    def __call__(self, t):\n",
    "        \"\"\"Return the velocity when called during a time step.\n",
    "        Parameters\n",
    "        ----------\n",
    "        t : `float`\n",
    "            Current simulation time.\n",
    "        \"\"\"\n",
    "\n",
    "        if t <= self.time[-1] and t >= self.time[0]:\n",
    "            # prev_time_point is the previous value in the time array\n",
    "            # after the current simulation time\n",
    "            prev_time_point = self.time[self.time <= t][-1]\n",
    "            # index is the index of the time array where\n",
    "            # prev_time_point occurs\n",
    "            index = np.where(self.time == prev_time_point)[0][0]\n",
    "            return self.velocity[index]\n",
    "        else:\n",
    "            return 0"
   ]
  },
  {
   "cell_type": "markdown",
   "metadata": {},
   "source": [
    "Now we need to define a `Solution` just like before."
   ]
  },
  {
   "cell_type": "code",
   "execution_count": 10,
   "metadata": {},
   "outputs": [],
   "source": [
    "gas = ct.Solution('0d_example/mech.cti')\n",
    "gas.TP = 323, 1.5137E5\n",
    "gas.set_equivalence_ratio(1.0, {'ch3och3': 1, 'c3h8': 1}, {'o2': 1, 'n2': 3.76})"
   ]
  },
  {
   "cell_type": "markdown",
   "metadata": {},
   "source": [
    "The volume of the cylinder from the experiment is used to compute the velocity in the `VolumeProfile` class, so we need to load the volume trace from the file on the disk."
   ]
  },
  {
   "cell_type": "code",
   "execution_count": 11,
   "metadata": {},
   "outputs": [],
   "source": [
    "vol_data = np.loadtxt('0d_example/Tc_682K_P0_1.5137_T0_323K_volume.csv', delimiter=',')\n",
    "inp_time = vol_data[:, 0]\n",
    "inp_vol = vol_data[:, 1]"
   ]
  },
  {
   "cell_type": "markdown",
   "metadata": {},
   "source": [
    "We can calculate a few values of velocity using the `VolumeProfile` class, just to demonstrate the operation. First, an instance of the class is initialized with the volume and time read from the input file. Then we can call the instance, passing time points, and the velocity is returned. If the time that is passed is greater than the maximum time present in the input file (0.4 s), the velocity returned is zero."
   ]
  },
  {
   "cell_type": "code",
   "execution_count": 12,
   "metadata": {},
   "outputs": [
    {
     "name": "stdout",
     "output_type": "stream",
     "text": [
      "-38.6576215208\n",
      "0.388953308755\n",
      "0\n"
     ]
    }
   ],
   "source": [
    "vpro = VolumeProfile(inp_time, inp_vol)\n",
    "print(vpro(0.01))\n",
    "print(vpro(0.35))\n",
    "print(vpro(0.5))"
   ]
  },
  {
   "cell_type": "markdown",
   "metadata": {},
   "source": [
    "To effect the volume change, instances of `Wall`s can be installed between two Cantera reactors. In this case, we only care about reactions and changes in the reactor representing the RCM reaction chamber, so we install a `Wall` between the `IdealGasReactor` and a `Reservoir`, which represents the environment. Then we specify the `VolumeProfile` class as the means to calculate the velocity. Other options would be a constant value, or a function that takes a single argument (the simulation time). With the velocity defined and the `Wall` installed, the simulation can proceed as before."
   ]
  },
  {
   "cell_type": "code",
   "execution_count": 13,
   "metadata": {},
   "outputs": [],
   "source": [
    "reac = ct.IdealGasReactor(gas)\n",
    "env = ct.Reservoir(ct.Solution('air.xml'))\n",
    "wall = ct.Wall(reac, env, A=1.0, velocity=vpro)\n",
    "netw = ct.ReactorNet([reac])\n",
    "netw.set_max_time_step(inp_time[1])\n",
    "\n",
    "vol_temperature = []\n",
    "vol_pressure = []\n",
    "vol_volume = []\n",
    "vol_time = []\n",
    "\n",
    "# End the simulation when the temperature exceeds 2500 K or the time reaches 0.1 s\n",
    "while reac.T < 2500 and netw.time < 0.1:\n",
    "    vol_time.append(netw.time)\n",
    "    vol_temperature.append(reac.T)\n",
    "    vol_pressure.append(reac.thermo.P)\n",
    "    vol_volume.append(reac.volume)\n",
    "    netw.step()\n",
    "\n",
    "# It is more convenient to work with the data in NumPy arrays than Python lists, so convert\n",
    "vol_temperature = np.array(vol_temperature)\n",
    "vol_pressure = np.array(vol_pressure)\n",
    "vol_volume = np.array(vol_volume)\n",
    "vol_time = np.array(vol_time)"
   ]
  },
  {
   "cell_type": "markdown",
   "metadata": {},
   "source": [
    "We can compare a number of parameters between the simulation and experiment. First, we can compare the volume that is read from the input file to the simulated volume of the reactor as a function of time. Remember that we did not specify the volume of the reactor directly, instead we specified it through the velocity. The two volume traces agree exactly (although the simulated volume is somewhat shorter than the input volume because of the conditions we placed on the integration)."
   ]
  },
  {
   "cell_type": "code",
   "execution_count": 14,
   "metadata": {
    "scrolled": false
   },
   "outputs": [
    {
     "data": {
      "application/vnd.jupyter.widget-view+json": {
       "model_id": "580521ee46af4b2c8ded306713b8db07",
       "version_major": 2,
       "version_minor": 0
      },
      "text/html": [
       "<p>Failed to display Jupyter Widget of type <code>FigureCanvasNbAgg</code>.</p>\n",
       "<p>\n",
       "  If you're reading this message in the Jupyter Notebook or JupyterLab Notebook, it may mean\n",
       "  that the widgets JavaScript is still loading. If this message persists, it\n",
       "  likely means that the widgets JavaScript library is either not installed or\n",
       "  not enabled. See the <a href=\"https://ipywidgets.readthedocs.io/en/stable/user_install.html\">Jupyter\n",
       "  Widgets Documentation</a> for setup instructions.\n",
       "</p>\n",
       "<p>\n",
       "  If you're reading this message in another frontend (for example, a static\n",
       "  rendering on GitHub or <a href=\"https://nbviewer.jupyter.org/\">NBViewer</a>),\n",
       "  it may mean that your frontend doesn't currently support widgets.\n",
       "</p>\n"
      ],
      "text/plain": [
       "FigureCanvasNbAgg()"
      ]
     },
     "metadata": {},
     "output_type": "display_data"
    }
   ],
   "source": [
    "plt.figure('Volume Trace Comparison')\n",
    "plt.plot(inp_time, inp_vol, label='Input Volume')\n",
    "plt.plot(vol_time, vol_volume, label='Simulated Volume')\n",
    "plt.ylabel('Volume [m**3]')\n",
    "plt.xlabel('Time, [s]')\n",
    "plt.legend();"
   ]
  },
  {
   "cell_type": "code",
   "execution_count": 15,
   "metadata": {},
   "outputs": [
    {
     "data": {
      "application/vnd.jupyter.widget-view+json": {
       "model_id": "553f57ffc70c466a9be6e5fd5ef18944",
       "version_major": 2,
       "version_minor": 0
      },
      "text/html": [
       "<p>Failed to display Jupyter Widget of type <code>FigureCanvasNbAgg</code>.</p>\n",
       "<p>\n",
       "  If you're reading this message in the Jupyter Notebook or JupyterLab Notebook, it may mean\n",
       "  that the widgets JavaScript is still loading. If this message persists, it\n",
       "  likely means that the widgets JavaScript library is either not installed or\n",
       "  not enabled. See the <a href=\"https://ipywidgets.readthedocs.io/en/stable/user_install.html\">Jupyter\n",
       "  Widgets Documentation</a> for setup instructions.\n",
       "</p>\n",
       "<p>\n",
       "  If you're reading this message in another frontend (for example, a static\n",
       "  rendering on GitHub or <a href=\"https://nbviewer.jupyter.org/\">NBViewer</a>),\n",
       "  it may mean that your frontend doesn't currently support widgets.\n",
       "</p>\n"
      ],
      "text/plain": [
       "FigureCanvasNbAgg()"
      ]
     },
     "metadata": {},
     "output_type": "display_data"
    }
   ],
   "source": [
    "plt.figure('Experimental Pressure vs. Simulated Pressure 2')\n",
    "plt.plot(expt_time, expt_pres, label='Experimental')\n",
    "plt.plot(time + 0.032, pressure/1.0E5, label='Constant Volume Simulation')\n",
    "plt.plot(vol_time, vol_pressure/1.0E5, label='Variable Volume Simulation')\n",
    "plt.legend()\n",
    "plt.xlabel('Time [s]')\n",
    "plt.ylabel('Pressure [bar]');"
   ]
  },
  {
   "cell_type": "markdown",
   "metadata": {
    "collapsed": true
   },
   "source": [
    "Then, comparing all three pressure traces, we can see that the green variable volume simulation very closely approximates the behavior of the experimental pressure trace, including the compression stroke and post-compression behavior. User defined functions and classes, such as the one used to compute the velocity of the wall in this example, are very powerful in Cantera."
   ]
  }
 ],
 "metadata": {
  "kernelspec": {
   "display_name": "Python 3",
   "language": "python",
   "name": "python3"
  },
  "language_info": {
   "codemirror_mode": {
    "name": "ipython",
    "version": 3
   },
   "file_extension": ".py",
   "mimetype": "text/x-python",
   "name": "python",
   "nbconvert_exporter": "python",
   "pygments_lexer": "ipython3",
   "version": "3.6.4"
  }
 },
 "nbformat": 4,
 "nbformat_minor": 2
}
