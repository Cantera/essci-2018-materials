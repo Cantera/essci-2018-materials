{
 "cells": [
  {
   "cell_type": "code",
   "execution_count": null,
   "metadata": {},
   "outputs": [],
   "source": [
    "%matplotlib notebook\n",
    "\n",
    "import cantera as ct\n",
    "import numpy as np\n",
    "import matplotlib.pyplot as plt"
   ]
  },
  {
   "cell_type": "markdown",
   "metadata": {},
   "source": [
    "# 0-D Perfectly Stirred Reactor\n",
    "\n",
    "In this example, we will explore another use of user-defined functions. In Cantera, we can connect several components together to create an open control volume, rather than the closed batch reactor we used to conduct constant U-V simultions previously.\n",
    "\n",
    "Perfectly stirred reactors are one such example. The PSR is typically a constant volume reaction chamber with a single inlet and outlet to allow flow in and out. In Cantera, we can use several components to control the flow rate in a `Reactor`, including a `Valve`, which calculates the mass flow rate by\n",
    "\n",
    "$$\\dot{m} = K(P_1 - P_2)$$\n",
    "\n",
    "where $K$ is a constant. Another option is a `MassFlowController`, which sets the mass flow rate to the specified value, regardless of the pressure difference. In this example, we will use a `Valve` between the upstream condition and the reactor, to maintain the reactor at constant pressure; and we will use a `MassFlowController` to control the overall mass flow rate.\n",
    "\n",
    "In conducting experiments with PSR-analogs, the experimentalists might hold the residence time of the reactants in the reactor constant and vary the inlet conditions (equivalence ratio, temperature, etc.), perhaps to measure the mole fractions of the products coming out of the reactor. Cantera does not have a pre-defined function to set a constant residence time, but we can use a user-defined function to calculate the mass flow rate required to give a certain residence time. Essentially, we will divide the mass of the gas in the reactor by the residence time, and set the mass flow rate through the `MassFlowController` with this function.\n",
    "\n",
    "The inspiration for this function comes from a post on the User Group: (https://groups.google.com/d/msg/cantera-users/dMUhi5kVVDk/bDFYWMQsgbAJ)"
   ]
  },
  {
   "cell_type": "code",
   "execution_count": null,
   "metadata": {},
   "outputs": [],
   "source": [
    "gas = ct.Solution('h2o2.xml')\n",
    "\n",
    "gas.TPX = 300, ct.one_atm, 'H2:1.0, O2:2.0, AR:4.0'"
   ]
  },
  {
   "cell_type": "markdown",
   "metadata": {},
   "source": [
    "We need to define some containers for our inlet gas and an area for the exhaust to go to. We will use `Reservoir`s, which are similar to `Reactor`s, except the thermodynamic state in a `Reservoir` is always constant."
   ]
  },
  {
   "cell_type": "code",
   "execution_count": null,
   "metadata": {},
   "outputs": [],
   "source": [
    "upstream = ct.Reservoir(gas)\n",
    "downstream = ct.Reservoir(gas)"
   ]
  },
  {
   "cell_type": "markdown",
   "metadata": {},
   "source": [
    "Now we will set the state of the main `Reactor` to the constant enthalpy-pressure equilibrium state. This ensures we start with the steady burning condition."
   ]
  },
  {
   "cell_type": "code",
   "execution_count": null,
   "metadata": {},
   "outputs": [],
   "source": [
    "gas.equilibrate('HP')\n",
    "r1 = ct.IdealGasReactor(gas)"
   ]
  },
  {
   "cell_type": "code",
   "execution_count": null,
   "metadata": {},
   "outputs": [],
   "source": [
    "residence_time = 1.0e-4\n",
    "\n",
    "def mdot_out(t):\n",
    "    \"\"\"\n",
    "    Compute the mass flow rate for a MassFlowController. The argument\n",
    "    `t` is the simulation time, so in principle the mass flow rate can\n",
    "    be computed as a function of time. In this simulation, we don't use\n",
    "    the time because the mass flow rate will be only a function of the\n",
    "    reactor mass and (fixed) residence time.\"\"\"\n",
    "    return r1.mass / residence_time"
   ]
  },
  {
   "cell_type": "markdown",
   "metadata": {},
   "source": [
    "Here, we have defined the function we will use to set the mass flow rate. For this example, the residence time is $10^{-4}\\ \\text{s}$. Next, we define the `Valve` between the `upstream` Reservoir and the reactor, and we give it a constant $K = 100$, so that the inlet mass flow rate very quickly responds to any pressure differences between the upstream and the reactor. We also define a `MassFlowController` on the outlet, and most importantly, we define the mass flow rate of the controller to be computed by the function we defined."
   ]
  },
  {
   "cell_type": "code",
   "execution_count": null,
   "metadata": {},
   "outputs": [],
   "source": [
    "inlet = ct.Valve(upstream, r1, K=100)\n",
    "outlet = ct.MassFlowController(r1, downstream)\n",
    "outlet.set_mass_flow_rate(mdot_out)"
   ]
  },
  {
   "cell_type": "markdown",
   "metadata": {},
   "source": [
    "Now we can create the `ReactorNet` and run the simulation until we approach the steady state. We will assume that steady state occurs after the integration has gone for five residence times, then check afterwards."
   ]
  },
  {
   "cell_type": "code",
   "execution_count": null,
   "metadata": {},
   "outputs": [],
   "source": [
    "net = ct.ReactorNet([r1])\n",
    "net.set_max_time_step(residence_time)\n",
    "\n",
    "end_time = 5.0*residence_time\n",
    "time = []\n",
    "T = []\n",
    "mdot = []\n",
    "while net.time <= end_time:\n",
    "    time.append(net.time)\n",
    "    T.append(r1.T)\n",
    "    mdot.append(outlet.mdot(net.time))\n",
    "    net.step()"
   ]
  },
  {
   "cell_type": "code",
   "execution_count": null,
   "metadata": {},
   "outputs": [],
   "source": [
    "plt.figure()\n",
    "plt.plot(time, T, label='Temperature')\n",
    "plt.plot(time, np.array(mdot)/2, label='Mass Flow Rate/2')\n",
    "plt.legend(loc='best');"
   ]
  },
  {
   "cell_type": "markdown",
   "metadata": {},
   "source": [
    "From this, we can see that after about 0.1 ms, the solution has already reached steady state."
   ]
  },
  {
   "cell_type": "markdown",
   "metadata": {},
   "source": [
    "# Varying Residence Time to Extinction"
   ]
  },
  {
   "cell_type": "markdown",
   "metadata": {},
   "source": [
    "Another common case to study is changing the residence time until the reactor extinguishes (that is, the steady state solution is the non-reacting solution). We will use the `pandas` library `DataFrame` to store the data for a range of equivalence ratios."
   ]
  },
  {
   "cell_type": "code",
   "execution_count": null,
   "metadata": {},
   "outputs": [],
   "source": [
    "from itertools import product\n",
    "import pandas as pd"
   ]
  },
  {
   "cell_type": "code",
   "execution_count": null,
   "metadata": {},
   "outputs": [],
   "source": [
    "taus = np.logspace(0, -4, num=200)"
   ]
  },
  {
   "cell_type": "markdown",
   "metadata": {},
   "source": [
    "Here, we define an array of residence times on a logarithmic scale, from $10^0$ to $10^{-5}$ seconds. We choose a `logspace` rather than a `linspace` because the residence time is varying over so many orders of magnitude. Then, we define several pressures and equivalence ratios, and set up the `DataFrame`s."
   ]
  },
  {
   "cell_type": "code",
   "execution_count": null,
   "metadata": {},
   "outputs": [],
   "source": [
    "pres = [1.0]  # Pressure in atmospheres\n",
    "phis = [0.5, 0.7, 1.0]\n",
    "\n",
    "index = pd.Index(taus, name=\"Residence Time\")\n",
    "cols = pd.MultiIndex.from_product([[p for p in pres], [p for p in phis]],\n",
    "                                  names=['Pressure', 'Phi'])\n",
    "\n",
    "df_T = pd.DataFrame(index=index, columns=cols, dtype=np.float64)\n",
    "df_CO = df_T.copy()"
   ]
  },
  {
   "cell_type": "markdown",
   "metadata": {},
   "source": [
    "Then we define the mass flow rate function and set up the simulation"
   ]
  },
  {
   "cell_type": "code",
   "execution_count": null,
   "metadata": {},
   "outputs": [],
   "source": [
    "def mdot(t):\n",
    "    return reac.mass/res_time\n",
    "\n",
    "gas = ct.Solution('gri30.xml')\n",
    "CO_index = gas.species_index('CO')"
   ]
  },
  {
   "cell_type": "markdown",
   "metadata": {},
   "source": [
    "We will use the built-in `product` function from the `itertools` module to loop over the Cartesian product of the pressures and equivalence ratios. Then, we loop through the residence times, advancing the reactor to steady state for each residence time. Once the steady state reactor temperature has been below 500 K for three residence times in a row, we assume we've reached the extinction point and break out from the loop for that pressure and equivalence ratio."
   ]
  },
  {
   "cell_type": "code",
   "execution_count": null,
   "metadata": {},
   "outputs": [],
   "source": [
    "for p, phi in product(pres, phis):\n",
    "    print('Pressure:', p, 'Equivalence Ratio:', phi)\n",
    "\n",
    "    count = 0\n",
    "    for res_time in taus:\n",
    "        gas.set_equivalence_ratio(phi, 'CH4', {'O2': 1.0, 'N2': 3.76})\n",
    "        gas.TP = 300, p*ct.one_atm\n",
    "\n",
    "        upstream = ct.Reservoir(gas)\n",
    "        downstream = ct.Reservoir(gas)\n",
    "        gas.equilibrate('hp')\n",
    "        reac = ct.IdealGasReactor(gas)\n",
    "        outlet = ct.MassFlowController(reac, downstream)\n",
    "        outlet.set_mass_flow_rate(mdot)\n",
    "        inlet = ct.Valve(upstream, reac, K=100)\n",
    "        netw = ct.ReactorNet([reac])\n",
    "\n",
    "        try:\n",
    "            netw.advance_to_steady_state()\n",
    "        except ct.CanteraError:\n",
    "            df_T.loc[res_time, (p, phi)] = np.nan\n",
    "            df_CO.loc[res_time, (p, phi)] = np.nan\n",
    "        else:\n",
    "            df_T.loc[res_time, (p, phi)] = reac.T\n",
    "            df_CO.loc[res_time, (p, phi)] = gas.X[CO_index]\n",
    "            if reac.T < 500:\n",
    "                count += 1\n",
    "            else:\n",
    "                count = 0\n",
    "            if count == 3:\n",
    "                break\n"
   ]
  },
  {
   "cell_type": "code",
   "execution_count": null,
   "metadata": {},
   "outputs": [],
   "source": [
    "df_T[df_T < 500] = np.nan\n",
    "plt.figure()\n",
    "plt.semilogx(df_T.index, df_T[1.0][1.0], label=r'$\\phi = 1.0$')\n",
    "plt.semilogx(df_T.index, df_T[1.0][0.7], label=r'$\\phi = 0.7$')\n",
    "plt.semilogx(df_T.index, df_T[1.0][0.5], label=r'$\\phi = 0.5$')\n",
    "plt.ylabel('Temperature, K')\n",
    "plt.xlabel('Residence Time, s')\n",
    "plt.legend(loc='best');"
   ]
  },
  {
   "cell_type": "code",
   "execution_count": null,
   "metadata": {},
   "outputs": [],
   "source": [
    "df_CO[df_CO < 1.0E-6] = np.nan\n",
    "plt.figure()\n",
    "plt.semilogx(df_CO.index, df_CO[1.0][1.0], label=r'$\\phi = 1.0$')\n",
    "plt.semilogx(df_CO.index, df_CO[1.0][0.7], label=r'$\\phi = 0.7$')\n",
    "plt.semilogx(df_CO.index, df_CO[1.0][0.5], label=r'$\\phi = 0.5$')\n",
    "plt.ylabel('CO mole fraction, -')\n",
    "plt.xlabel('Residence Time, s')\n",
    "plt.legend(loc='best');"
   ]
  }
 ],
 "metadata": {
  "kernelspec": {
   "display_name": "Python 3",
   "language": "python",
   "name": "python3"
  },
  "language_info": {
   "codemirror_mode": {
    "name": "ipython",
    "version": 3
   },
   "file_extension": ".py",
   "mimetype": "text/x-python",
   "name": "python",
   "nbconvert_exporter": "python",
   "pygments_lexer": "ipython3",
   "version": "3.6.4"
  }
 },
 "nbformat": 4,
 "nbformat_minor": 2
}
