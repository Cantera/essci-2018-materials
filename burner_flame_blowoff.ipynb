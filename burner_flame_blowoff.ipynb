{
 "cells": [
  {
   "cell_type": "code",
   "execution_count": null,
   "metadata": {},
   "outputs": [],
   "source": [
    "import cantera as ct\n",
    "import numpy as np\n",
    "%matplotlib notebook\n",
    "import matplotlib.pyplot as plt"
   ]
  },
  {
   "cell_type": "markdown",
   "metadata": {},
   "source": [
    "# Burner Flame Example\n",
    "\n",
    "In this example, we will demonstrate a burner flame at two equivalence ratios, one with a flame attached to the burner surface, and one where the flame blows off. We will also demonstrate the ability of the Cantera solver to have arbitrary functions inserted to collect data and control the simulation. First, we define a function to set up the flame with the equivalence ratio as a parameter."
   ]
  },
  {
   "cell_type": "code",
   "execution_count": null,
   "metadata": {},
   "outputs": [],
   "source": [
    "def setup(phi):\n",
    "    # parameter values\n",
    "    p = ct.one_atm  # pressure\n",
    "    tburner = 300.0  # burner temperature\n",
    "    mdot = 1.2 # kg/m^2/s\n",
    "    width = 0.05 # m\n",
    "\n",
    "    gas = ct.Solution('h2o2.cti')\n",
    "\n",
    "    # set state to that of the unburned gas at the burner\n",
    "    gas.set_equivalence_ratio(phi, 'H2', 'O2:1.0, AR:5')\n",
    "    gas.TP = tburner, p\n",
    "\n",
    "    # Create the stagnation flow object with a non-reactive surface.\n",
    "    sim = ct.BurnerFlame(gas=gas, width=width)\n",
    "    # set the mass flow rate at the inlet\n",
    "    sim.burner.mdot = mdot\n",
    "    sim.set_refine_criteria(ratio=3, slope=0.16, curve=0.3, prune=0.1)\n",
    "    return sim"
   ]
  },
  {
   "cell_type": "markdown",
   "metadata": {},
   "source": [
    "Now we create a simulation with the equivalence ratio $\\phi = 0.6$ which is above the lean blowoff limit for this flame."
   ]
  },
  {
   "cell_type": "code",
   "execution_count": null,
   "metadata": {
    "scrolled": false
   },
   "outputs": [],
   "source": [
    "sim = setup(0.6)\n",
    "sim.solve(loglevel=1, auto=True)"
   ]
  },
  {
   "cell_type": "markdown",
   "metadata": {},
   "source": [
    "If we plot the temperature on the grid, we will find that the product temperature approaches the equilibrium temperature downstream, indicating a successfully attached flame."
   ]
  },
  {
   "cell_type": "code",
   "execution_count": null,
   "metadata": {},
   "outputs": [],
   "source": [
    "fig, ax = plt.subplots(1, 1)\n",
    "ax.plot(sim.grid, sim.T)"
   ]
  },
  {
   "cell_type": "markdown",
   "metadata": {},
   "source": [
    "On the other hand, let's set up a flame now that blows off the burner. For this case, we will use the equivalence ratio $\\phi = 0.4$."
   ]
  },
  {
   "cell_type": "code",
   "execution_count": null,
   "metadata": {},
   "outputs": [],
   "source": [
    "sim = setup(0.4)\n",
    "sim.solve(loglevel=1, auto=True)"
   ]
  },
  {
   "cell_type": "markdown",
   "metadata": {},
   "source": [
    "Hmm, we only ended up with 25 points in the flame. This is strange, so we can add a `callback` function to investigate the progress of the solver as the simulation progresses. We have two options, one which calls the `callback` function after every steady state solve, while the other calls the `callback` function after every transient solve. In this case, we will use the function\n",
    "\n",
    "```\n",
    "set_steady_callback(self, f)\n",
    "    Set a callback function to be called after each successful steady-state solve, before regridding. The signature of f is float f(float). The argument passed to f is “0” and the output is ignored.\n",
    "```\n",
    "\n",
    "So, we need to define a function that takes one argument, which will always be the value `0`. On the other hand, we can use global variables within the `callback` function. In this case, we want to plot the temperature profile after every steady solver step, so we can track the progress of the solution."
   ]
  },
  {
   "cell_type": "code",
   "execution_count": null,
   "metadata": {},
   "outputs": [],
   "source": [
    "# Use callback function to collect and plot data after each steady solve\n",
    "fig, ax = plt.subplots(1, 1)\n",
    "\n",
    "def callback(x):\n",
    "    \"\"\"\n",
    "    Callback function that plots the simulation temperature.\n",
    "    The argument ``x`` is not used.\n",
    "    \"\"\"\n",
    "    ax.plot(sim.grid, sim.T)\n",
    "    fig.canvas.draw()\n",
    "    return 0"
   ]
  },
  {
   "cell_type": "code",
   "execution_count": null,
   "metadata": {},
   "outputs": [],
   "source": [
    "sim = setup(0.4)\n",
    "\n",
    "sim.set_steady_callback(callback)\n",
    "sim.solve(loglevel=0, auto=False)"
   ]
  }
 ],
 "metadata": {
  "kernelspec": {
   "display_name": "Python 3",
   "language": "python",
   "name": "python3"
  },
  "language_info": {
   "codemirror_mode": {
    "name": "ipython",
    "version": 3
   },
   "file_extension": ".py",
   "mimetype": "text/x-python",
   "name": "python",
   "nbconvert_exporter": "python",
   "pygments_lexer": "ipython3",
   "version": "3.6.4"
  }
 },
 "nbformat": 4,
 "nbformat_minor": 2
}
