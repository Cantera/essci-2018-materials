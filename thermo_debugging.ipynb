{
 "cells": [
  {
   "cell_type": "code",
   "execution_count": null,
   "metadata": {},
   "outputs": [],
   "source": [
    "import cantera as ct\n",
    "import cantera.ck2cti as ck2cti\n",
    "import numpy as np\n",
    "\n",
    "%matplotlib notebook\n",
    "import matplotlib.pyplot as plt"
   ]
  },
  {
   "cell_type": "markdown",
   "metadata": {},
   "source": [
    "## Converting from Chemkin"
   ]
  },
  {
   "cell_type": "markdown",
   "metadata": {},
   "source": [
    "One of the most common problems that users encounter is converting CHEMKIN format input files to Cantera CTI format. Unfortunately, the CHEMKIN interpreter for these files is not very strict about complying with its own standard, so files that work just fine in CHEMKIN require some massaging to work with Cantera. Let's look at one example:"
   ]
  },
  {
   "cell_type": "code",
   "execution_count": null,
   "metadata": {},
   "outputs": [],
   "source": [
    "# command line equivalent:\n",
    "# python -m cantera.ck2cti --input=mech.txt --thermo=thermo.txt --transport=tran.txt --permissive --out=mech.cti\n",
    "parser = ck2cti.Parser()\n",
    "parser.convertMech('mech_debug/mech.txt', 'mech_debug/thermo.txt', 'mech_debug/tran.txt', outName='mech.cti')"
   ]
  },
  {
   "cell_type": "code",
   "execution_count": null,
   "metadata": {},
   "outputs": [],
   "source": [
    "parser.convertMech('mech_debug/mech_fixed.txt', 'mech_debug/thermo.txt', 'mech_debug/tran.txt', outName='mech.cti')"
   ]
  },
  {
   "cell_type": "code",
   "execution_count": null,
   "metadata": {},
   "outputs": [],
   "source": [
    "parser.convertMech('mech_debug/mech_fixed.txt', 'mech_debug/thermo_fixed.txt', 'mech_debug/tran.txt', outName='mech.cti')"
   ]
  },
  {
   "cell_type": "code",
   "execution_count": null,
   "metadata": {},
   "outputs": [],
   "source": [
    "parser.convertMech('mech_debug/mech_fixed.txt', 'mech_debug/thermo_fixed.txt', 'mech_debug/tran.txt', permissive=True, outName='mech.cti')"
   ]
  },
  {
   "cell_type": "markdown",
   "metadata": {},
   "source": [
    "We have compiled a list of the most common errors in CHEMKIN format input files, which you can find in our documentation: http://cantera.org/docs/sphinx/html/cti/input-files.html#debugging-common-errors-in-ck-files"
   ]
  },
  {
   "cell_type": "markdown",
   "metadata": {},
   "source": [
    "## Thermo Data"
   ]
  },
  {
   "cell_type": "markdown",
   "metadata": {},
   "source": [
    "Another common situation is when loading a CTI file, you encounter warnings about discontinuities in the thermodynamic data."
   ]
  },
  {
   "cell_type": "code",
   "execution_count": null,
   "metadata": {},
   "outputs": [],
   "source": [
    "gas = ct.Solution('mech.cti')"
   ]
  },
  {
   "cell_type": "markdown",
   "metadata": {},
   "source": [
    "These warnings are part of a validation check that Cantera does to make sure the thermodynamics data are consistent. In the standard NASA 14-coefficient polynomial form, the thermodynamics data are defined as two five coefficient polynomials (plus two other constants) over two temperature ranges. This is the form used for CHEMKIN files. The discontinuities occur when either the slope or the value of the thermodynamic functions ($c_p/R$, $h/(RT)$, or $s/R$) has a discontinuity at the mid-point temperature. Most commonly, one or more the discontinuities are due to incorrectly fit parameters, but they can also be caused by other means. Let's investigate."
   ]
  },
  {
   "cell_type": "code",
   "execution_count": null,
   "metadata": {},
   "outputs": [],
   "source": [
    "sp = gas.species('H2CNO')\n",
    "T = np.linspace(600, 2000, 200)\n",
    "f,ax = plt.subplots(1,3, figsize=(8,3.5))\n",
    "\n",
    "def plot_thermo(thermo):\n",
    "    h = [thermo.h(tt)/(ct.gas_constant * tt) for tt in T]\n",
    "    cp = [thermo.cp(tt)/ct.gas_constant for tt in T]\n",
    "    s = [thermo.s(tt)/ct.gas_constant for tt in T]\n",
    "    ax[0].plot(T,cp)\n",
    "    ax[0].set_title('$c_p/R$')\n",
    "    ax[1].plot(T,h)\n",
    "    ax[1].set_title('$h/RT$')\n",
    "    ax[2].plot(T,s)\n",
    "    ax[2].set_title('$s/R$')\n",
    "    f.tight_layout()\n",
    "plot_thermo(sp.thermo)"
   ]
  },
  {
   "cell_type": "code",
   "execution_count": null,
   "metadata": {},
   "outputs": [],
   "source": [
    "c0 = sp.thermo.coeffs\n",
    "c0"
   ]
  },
  {
   "cell_type": "code",
   "execution_count": null,
   "metadata": {},
   "outputs": [],
   "source": [
    "c0[0] = 1200\n",
    "test = ct.NasaPoly2(sp.thermo.min_temp, sp.thermo.max_temp, sp.thermo.reference_pressure, c0)\n",
    "plot_thermo(test)"
   ]
  },
  {
   "cell_type": "code",
   "execution_count": null,
   "metadata": {},
   "outputs": [],
   "source": [
    "c0[0] = 1000\n",
    "test = ct.NasaPoly2(sp.thermo.min_temp, sp.thermo.max_temp, sp.thermo.reference_pressure, c0)\n",
    "plot_thermo(test)"
   ]
  },
  {
   "cell_type": "markdown",
   "metadata": {},
   "source": [
    "In many cases, when the change is on the order of a few percent, these discontinuities won't cause problems. However, if you notice a simulation failing at a consistent temperature for several conditions, this is one possible cause."
   ]
  },
  {
   "cell_type": "markdown",
   "metadata": {},
   "source": [
    "## Reaction Rates"
   ]
  },
  {
   "cell_type": "markdown",
   "metadata": {},
   "source": [
    "Another common issue with mechanisms are unphysical reaction rates (particularly reverse reaction rates). These unphysical reaction rates often exceed the collision limit for a given reaction. A recent study by [Chen et al.](https://www.sciencedirect.com/science/article/pii/S0010218017303024) found that\n",
    "\n",
    "> among.. 20 [recent] models tested, 15 of them contain either considerable numbers of rate coefficients that exceed their respective collision limits or reactions exceeding the collision limit in a considerable manner. In the worst case, the rate coefficient exceeds the collision limit by 73 orders of magnitude.\n",
    "\n",
    "The authors continue\n",
    "\n",
    "> It is proposed that computational tools should be made available for authors to conduct the same rate coefficient screening.\n",
    "\n",
    "Let's take a look at how Cantera can fill this need."
   ]
  },
  {
   "cell_type": "code",
   "execution_count": null,
   "metadata": {},
   "outputs": [],
   "source": [
    "gas.TPX = 300, 101325, 'CH4:1.0, O2:0.1'\n",
    "gas.equilibrate('TP')\n",
    "gas()"
   ]
  },
  {
   "cell_type": "code",
   "execution_count": null,
   "metadata": {},
   "outputs": [],
   "source": [
    "f,ax = plt.subplots(1,1)\n",
    "ax.semilogy(gas.forward_rate_constants, 'b.')\n",
    "ax.semilogy(gas.reverse_rate_constants, 'r.')\n",
    "ax.set_ylim(ymin=1e-30)\n",
    "f.tight_layout()"
   ]
  },
  {
   "cell_type": "markdown",
   "metadata": {},
   "source": [
    "There are clearly several reverse rates with very high magnitudes. Let's print the reactions with reverse rate constants higher than $10^{20}$:"
   ]
  },
  {
   "cell_type": "code",
   "execution_count": null,
   "metadata": {},
   "outputs": [],
   "source": [
    "kr = gas.reverse_rate_constants\n",
    "for i, k in enumerate(kr):\n",
    "    if k > 1e20:\n",
    "        print(i, k, gas.reaction_equation(i))"
   ]
  },
  {
   "cell_type": "markdown",
   "metadata": {},
   "source": [
    "Among these is the reaction \n",
    "\n",
    "$$\\text{CH}_3 + \\text{M} <=> \\text{CH} + \\text{H2} + \\text{M}$$\n",
    "\n",
    "with reverse rate constant of `4.2656e+23`. This is a pretty common reaction, so we can compare to the same reaction from, for example, GRI-30:"
   ]
  },
  {
   "cell_type": "code",
   "execution_count": null,
   "metadata": {},
   "outputs": [],
   "source": [
    "gri = ct.Solution('gri30.cti')\n",
    "for i, r in enumerate(gri.reactions()):\n",
    "    if 'CH3' in r and 'H2' in r and 'CH' in r:\n",
    "        print(i, r)"
   ]
  },
  {
   "cell_type": "markdown",
   "metadata": {},
   "source": [
    "The reaction is #295 from the first mechanism and #288 from GRI-30, so we can calculate the rate of each reaction over a range of temperatures from 300 K to 3000 K and plot them."
   ]
  },
  {
   "cell_type": "code",
   "execution_count": null,
   "metadata": {
    "scrolled": false
   },
   "outputs": [],
   "source": [
    "gasN = ct.SolutionArray(gas, shape=200)\n",
    "griN = ct.SolutionArray(gri, shape=200)\n",
    "T = np.linspace(300, 3000, 200)\n",
    "gasN.TPY = T, 101325, 'N2:1.0'\n",
    "griN.TPY = T, 101325, 'N2:1.0'\n",
    "\n",
    "f,ax = plt.subplots(1, 1)\n",
    "ax.semilogy(1000/T, gasN.forward_rate_constants[:,295], label='mech, forward')\n",
    "ax.semilogy(1000/T, gasN.reverse_rate_constants[:,295], label='mech, reverse')\n",
    "ax.semilogy(1000/T, griN.forward_rate_constants[:,288], '--', label='GRI3.0, forward')\n",
    "ax.semilogy(1000/T, griN.reverse_rate_constants[:,288], '--', label='GRI3.0, reverse')\n",
    "ax.legend(loc='best')\n",
    "ax.grid(True)\n",
    "f.tight_layout()"
   ]
  },
  {
   "cell_type": "markdown",
   "metadata": {},
   "source": [
    "Here, we see that the rate of the reactions is close-ish at high temperature (>1000 K), but as the temperature decreases, they rapidly diverge and differ by 11 orders of magnitude at 300 K. This can cause problems in the integrator for both 0-D and 1-D problems, often accompanied by error messages about \"Repeated recoverable right-hand side errors\""
   ]
  }
 ],
 "metadata": {
  "kernelspec": {
   "display_name": "Python 3",
   "language": "python",
   "name": "python3"
  },
  "language_info": {
   "codemirror_mode": {
    "name": "ipython",
    "version": 3
   },
   "file_extension": ".py",
   "mimetype": "text/x-python",
   "name": "python",
   "nbconvert_exporter": "python",
   "pygments_lexer": "ipython3",
   "version": "3.6.4"
  }
 },
 "nbformat": 4,
 "nbformat_minor": 2
}
